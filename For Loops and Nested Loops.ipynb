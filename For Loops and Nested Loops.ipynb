{
 "cells": [
  {
   "cell_type": "code",
   "execution_count": 1,
   "id": "d17b05a7",
   "metadata": {},
   "outputs": [],
   "source": [
    "#For loops\n",
    "\n",
    "Integers = [1,2,3,4,5]"
   ]
  },
  {
   "cell_type": "code",
   "execution_count": 3,
   "id": "337dfc03",
   "metadata": {},
   "outputs": [
    {
     "name": "stdout",
     "output_type": "stream",
     "text": [
      "1\n",
      "2\n",
      "3\n",
      "4\n",
      "5\n"
     ]
    }
   ],
   "source": [
    "for number in Integers:\n",
    "    print(number)"
   ]
  },
  {
   "cell_type": "code",
   "execution_count": 5,
   "id": "30bbd679",
   "metadata": {},
   "outputs": [
    {
     "name": "stdout",
     "output_type": "stream",
     "text": [
      "I can and I will\n",
      "I can and I will\n",
      "I can and I will\n",
      "I can and I will\n",
      "I can and I will\n"
     ]
    }
   ],
   "source": [
    "for number in Integers:\n",
    "    print('I can and I will')"
   ]
  },
  {
   "cell_type": "code",
   "execution_count": 6,
   "id": "0482bfb5",
   "metadata": {},
   "outputs": [
    {
     "name": "stdout",
     "output_type": "stream",
     "text": [
      "2\n",
      "4\n",
      "6\n",
      "8\n",
      "10\n"
     ]
    }
   ],
   "source": [
    "for number in Integers:\n",
    "    print(number + number)"
   ]
  },
  {
   "cell_type": "code",
   "execution_count": 7,
   "id": "39222d91",
   "metadata": {},
   "outputs": [],
   "source": [
    "Bike_dict = {'Name': 'Manthan Sharma', 'Ridesperweek': 5, 'Fav_bike': ['Gixxer', 'Harley']}"
   ]
  },
  {
   "cell_type": "code",
   "execution_count": 8,
   "id": "ce5818b7",
   "metadata": {},
   "outputs": [
    {
     "name": "stdout",
     "output_type": "stream",
     "text": [
      "Manthan Sharma\n",
      "5\n",
      "['Gixxer', 'Harley']\n"
     ]
    }
   ],
   "source": [
    "for bikes in Bike_dict.values():\n",
    "    print(bikes)"
   ]
  },
  {
   "cell_type": "code",
   "execution_count": 10,
   "id": "7a7b6ca3",
   "metadata": {},
   "outputs": [
    {
     "name": "stdout",
     "output_type": "stream",
     "text": [
      "Name = Manthan Sharma\n",
      "Ridesperweek = 5\n",
      "Fav_bike = ['Gixxer', 'Harley']\n"
     ]
    }
   ],
   "source": [
    "for key, value in Bike_dict.items():\n",
    "    print(key, '=', value)"
   ]
  },
  {
   "cell_type": "code",
   "execution_count": 11,
   "id": "c6b8c46b",
   "metadata": {},
   "outputs": [],
   "source": [
    "# Nested For Loops\n",
    "\n",
    "Brands = ['Triumph', 'Harley', 'Indian']\n",
    "Bikes = ['400', 'Fatbob', 'Cruiser']"
   ]
  },
  {
   "cell_type": "code",
   "execution_count": 12,
   "id": "473eb0af",
   "metadata": {},
   "outputs": [
    {
     "name": "stdout",
     "output_type": "stream",
     "text": [
      "400 By Triumph\n",
      "400 By Harley\n",
      "400 By Indian\n",
      "Fatbob By Triumph\n",
      "Fatbob By Harley\n",
      "Fatbob By Indian\n",
      "Cruiser By Triumph\n",
      "Cruiser By Harley\n",
      "Cruiser By Indian\n"
     ]
    }
   ],
   "source": [
    "for one in Bikes:\n",
    "    for two in Brands:\n",
    "            print(one, 'By', two)"
   ]
  },
  {
   "cell_type": "code",
   "execution_count": null,
   "id": "4d1df5e3",
   "metadata": {},
   "outputs": [],
   "source": []
  },
  {
   "cell_type": "code",
   "execution_count": null,
   "id": "e13b2a57",
   "metadata": {},
   "outputs": [],
   "source": []
  }
 ],
 "metadata": {
  "kernelspec": {
   "display_name": "Python 3 (ipykernel)",
   "language": "python",
   "name": "python3"
  },
  "language_info": {
   "codemirror_mode": {
    "name": "ipython",
    "version": 3
   },
   "file_extension": ".py",
   "mimetype": "text/x-python",
   "name": "python",
   "nbconvert_exporter": "python",
   "pygments_lexer": "ipython3",
   "version": "3.11.5"
  }
 },
 "nbformat": 4,
 "nbformat_minor": 5
}

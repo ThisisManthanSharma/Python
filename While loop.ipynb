{
 "cells": [
  {
   "cell_type": "code",
   "execution_count": 5,
   "id": "f56947a6",
   "metadata": {},
   "outputs": [
    {
     "name": "stdout",
     "output_type": "stream",
     "text": [
      "0\n",
      "1\n",
      "2\n",
      "3\n",
      "4\n"
     ]
    }
   ],
   "source": [
    "number = 0\n",
    "\n",
    "while number < 5:\n",
    "    print(number)\n",
    "    number = number+1"
   ]
  },
  {
   "cell_type": "code",
   "execution_count": 6,
   "id": "d9137239",
   "metadata": {},
   "outputs": [
    {
     "name": "stdout",
     "output_type": "stream",
     "text": [
      "0\n",
      "1\n",
      "2\n",
      "3\n"
     ]
    }
   ],
   "source": [
    "number = 0\n",
    "\n",
    "while number < 5:\n",
    "    print(number)\n",
    "    if number == 3:\n",
    "        break\n",
    "    number = number+1"
   ]
  },
  {
   "cell_type": "code",
   "execution_count": 8,
   "id": "a1cd1fed",
   "metadata": {},
   "outputs": [
    {
     "name": "stdout",
     "output_type": "stream",
     "text": [
      "0\n",
      "1\n",
      "2\n",
      "3\n",
      "4\n",
      "No longer needed\n"
     ]
    }
   ],
   "source": [
    "number = 0\n",
    "\n",
    "while number < 5:\n",
    "    print(number)\n",
    "    if number == 7:\n",
    "        break\n",
    "    number = number+1\n",
    "else:\n",
    "    print('No longer needed')"
   ]
  },
  {
   "cell_type": "code",
   "execution_count": null,
   "id": "8ab6ebdf",
   "metadata": {},
   "outputs": [],
   "source": [
    "number = 0\n",
    "\n",
    "while number < 5:\n",
    "    print(number)\n",
    "    if number == 4:\n",
    "        continue\n",
    "    number = number+1\n",
    "else:\n",
    "    print('No longer needed')"
   ]
  },
  {
   "cell_type": "code",
   "execution_count": null,
   "id": "70319720",
   "metadata": {},
   "outputs": [],
   "source": []
  }
 ],
 "metadata": {
  "kernelspec": {
   "display_name": "Python 3 (ipykernel)",
   "language": "python",
   "name": "python3"
  },
  "language_info": {
   "codemirror_mode": {
    "name": "ipython",
    "version": 3
   },
   "file_extension": ".py",
   "mimetype": "text/x-python",
   "name": "python",
   "nbconvert_exporter": "python",
   "pygments_lexer": "ipython3",
   "version": "3.11.5"
  }
 },
 "nbformat": 4,
 "nbformat_minor": 5
}

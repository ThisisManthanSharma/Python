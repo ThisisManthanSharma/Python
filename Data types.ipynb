{
 "cells": [
  {
   "cell_type": "code",
   "execution_count": 1,
   "id": "9622e98c",
   "metadata": {},
   "outputs": [
    {
     "data": {
      "text/plain": [
       "int"
      ]
     },
     "execution_count": 1,
     "metadata": {},
     "output_type": "execute_result"
    }
   ],
   "source": [
    "type(2)"
   ]
  },
  {
   "cell_type": "code",
   "execution_count": 3,
   "id": "d20c080a",
   "metadata": {},
   "outputs": [
    {
     "data": {
      "text/plain": [
       "float"
      ]
     },
     "execution_count": 3,
     "metadata": {},
     "output_type": "execute_result"
    }
   ],
   "source": [
    "type(10 + 10.99)"
   ]
  },
  {
   "cell_type": "code",
   "execution_count": 4,
   "id": "f7b9d30b",
   "metadata": {},
   "outputs": [
    {
     "data": {
      "text/plain": [
       "complex"
      ]
     },
     "execution_count": 4,
     "metadata": {},
     "output_type": "execute_result"
    }
   ],
   "source": [
    "type(10 + 2j)"
   ]
  },
  {
   "cell_type": "code",
   "execution_count": 5,
   "id": "9253376f",
   "metadata": {},
   "outputs": [
    {
     "data": {
      "text/plain": [
       "bool"
      ]
     },
     "execution_count": 5,
     "metadata": {},
     "output_type": "execute_result"
    }
   ],
   "source": [
    "#boolean\n",
    "\n",
    "type (1>5)"
   ]
  },
  {
   "cell_type": "code",
   "execution_count": 6,
   "id": "10cd5fc2",
   "metadata": {},
   "outputs": [
    {
     "data": {
      "text/plain": [
       "False"
      ]
     },
     "execution_count": 6,
     "metadata": {},
     "output_type": "execute_result"
    }
   ],
   "source": [
    "1 == 3"
   ]
  },
  {
   "cell_type": "code",
   "execution_count": 7,
   "id": "d564493c",
   "metadata": {},
   "outputs": [
    {
     "data": {
      "text/plain": [
       "True"
      ]
     },
     "execution_count": 7,
     "metadata": {},
     "output_type": "execute_result"
    }
   ],
   "source": [
    "2==2"
   ]
  },
  {
   "cell_type": "code",
   "execution_count": 8,
   "id": "cabe238c",
   "metadata": {},
   "outputs": [
    {
     "data": {
      "text/plain": [
       "'Single quote'"
      ]
     },
     "execution_count": 8,
     "metadata": {},
     "output_type": "execute_result"
    }
   ],
   "source": [
    "#strings\n",
    "\n",
    "'Single quote'"
   ]
  },
  {
   "cell_type": "code",
   "execution_count": 9,
   "id": "482f0914",
   "metadata": {},
   "outputs": [
    {
     "data": {
      "text/plain": [
       "'Double quote'"
      ]
     },
     "execution_count": 9,
     "metadata": {},
     "output_type": "execute_result"
    }
   ],
   "source": [
    "\"Double quote\""
   ]
  },
  {
   "cell_type": "code",
   "execution_count": 13,
   "id": "8cbf3248",
   "metadata": {},
   "outputs": [],
   "source": [
    "#triple quote used for multiple lines\n",
    "\n",
    "Poem = \"\"\"\n",
    "Twinkle tWINKLE little star\n",
    "How are wonders what you are\n",
    "Up above the world so high\n",
    "Like a diamond in the sky.\n",
    "\"\"\""
   ]
  },
  {
   "cell_type": "code",
   "execution_count": 16,
   "id": "79817bdf",
   "metadata": {},
   "outputs": [
    {
     "name": "stdout",
     "output_type": "stream",
     "text": [
      "\n",
      "Twinkle tWINKLE little star\n",
      "How are wonders what you are\n",
      "Up above the world so high\n",
      "Like a diamond in the sky.\n",
      "\n"
     ]
    }
   ],
   "source": [
    "print(Poem)"
   ]
  },
  {
   "cell_type": "code",
   "execution_count": 18,
   "id": "d63723fd",
   "metadata": {},
   "outputs": [
    {
     "data": {
      "text/plain": [
       "str"
      ]
     },
     "execution_count": 18,
     "metadata": {},
     "output_type": "execute_result"
    }
   ],
   "source": [
    "type(Poem)"
   ]
  },
  {
   "cell_type": "code",
   "execution_count": 19,
   "id": "d55be8fc",
   "metadata": {},
   "outputs": [],
   "source": [
    "a = 'Hello World!'"
   ]
  },
  {
   "cell_type": "code",
   "execution_count": 20,
   "id": "4542de91",
   "metadata": {},
   "outputs": [
    {
     "name": "stdout",
     "output_type": "stream",
     "text": [
      "Hello\n"
     ]
    }
   ],
   "source": [
    "print(a[:5])"
   ]
  },
  {
   "cell_type": "code",
   "execution_count": 21,
   "id": "26b80ac1",
   "metadata": {},
   "outputs": [
    {
     "data": {
      "text/plain": [
       "'Hello World!Hello World!Hello World!Hello World!Hello World!Hello World!Hello World!Hello World!Hello World!'"
      ]
     },
     "execution_count": 21,
     "metadata": {},
     "output_type": "execute_result"
    }
   ],
   "source": [
    "a*9"
   ]
  },
  {
   "cell_type": "code",
   "execution_count": 22,
   "id": "6c43cedb",
   "metadata": {},
   "outputs": [
    {
     "data": {
      "text/plain": [
       "'Hello World!Hello World!'"
      ]
     },
     "execution_count": 22,
     "metadata": {},
     "output_type": "execute_result"
    }
   ],
   "source": [
    "a + a"
   ]
  },
  {
   "cell_type": "code",
   "execution_count": 24,
   "id": "bc1e80a0",
   "metadata": {},
   "outputs": [
    {
     "name": "stdout",
     "output_type": "stream",
     "text": [
      "World\n"
     ]
    }
   ],
   "source": [
    "print(a[6:11])"
   ]
  },
  {
   "cell_type": "code",
   "execution_count": 25,
   "id": "86153705",
   "metadata": {},
   "outputs": [
    {
     "data": {
      "text/plain": [
       "[1, 2, 3]"
      ]
     },
     "execution_count": 25,
     "metadata": {},
     "output_type": "execute_result"
    }
   ],
   "source": [
    "# lists\n",
    "\n",
    "[1,2,3]"
   ]
  },
  {
   "cell_type": "code",
   "execution_count": 26,
   "id": "26df60bb",
   "metadata": {},
   "outputs": [
    {
     "data": {
      "text/plain": [
       "['Gixxer 155', 'R15', 'Apache 4v']"
      ]
     },
     "execution_count": 26,
     "metadata": {},
     "output_type": "execute_result"
    }
   ],
   "source": [
    "['Gixxer 155','R15','Apache 4v']"
   ]
  },
  {
   "cell_type": "code",
   "execution_count": 2,
   "id": "79e65b17",
   "metadata": {},
   "outputs": [
    {
     "data": {
      "text/plain": [
       "['Gixxer 155', 'R15', 'Apache 4v', 'FZ']"
      ]
     },
     "execution_count": 2,
     "metadata": {},
     "output_type": "execute_result"
    }
   ],
   "source": [
    "Bikes = ['Gixxer 155', 'R15', 'Apache 4v']\n",
    "\n",
    "Bikes.append('FZ')\n",
    "\n",
    "Bikes"
   ]
  },
  {
   "cell_type": "code",
   "execution_count": 3,
   "id": "24345ac2",
   "metadata": {},
   "outputs": [
    {
     "data": {
      "text/plain": [
       "['Gixxer', 'R15', 'Apache 4v', 'FZ']"
      ]
     },
     "execution_count": 3,
     "metadata": {},
     "output_type": "execute_result"
    }
   ],
   "source": [
    "Bikes[0] = 'Gixxer'\n",
    "\n",
    "Bikes"
   ]
  },
  {
   "cell_type": "code",
   "execution_count": 4,
   "id": "b043506a",
   "metadata": {},
   "outputs": [
    {
     "data": {
      "text/plain": [
       "['Gixxer', 155, ['Carburator', 'Injector'], True]"
      ]
     },
     "execution_count": 4,
     "metadata": {},
     "output_type": "execute_result"
    }
   ],
   "source": [
    "Nest_list = ['Gixxer', 155 , ['Carburator', 'Injector'], True]\n",
    "\n",
    "Nest_list"
   ]
  },
  {
   "cell_type": "code",
   "execution_count": 7,
   "id": "752666ac",
   "metadata": {},
   "outputs": [
    {
     "data": {
      "text/plain": [
       "'Injector'"
      ]
     },
     "execution_count": 7,
     "metadata": {},
     "output_type": "execute_result"
    }
   ],
   "source": [
    "Nest_list[2][1]"
   ]
  },
  {
   "cell_type": "code",
   "execution_count": 10,
   "id": "20563b02",
   "metadata": {},
   "outputs": [],
   "source": [
    "#tuple\n",
    "#the value under tuple list can't be changed/updated. They were created for fixed value i.e. City name, date of birth etc.\n",
    "\n",
    "tuple_list = [1,2,3,2,1]"
   ]
  },
  {
   "cell_type": "code",
   "execution_count": 11,
   "id": "3c713904",
   "metadata": {},
   "outputs": [
    {
     "data": {
      "text/plain": [
       "[1, 2, 3, 2, 1]"
      ]
     },
     "execution_count": 11,
     "metadata": {},
     "output_type": "execute_result"
    }
   ],
   "source": [
    "tuple_list"
   ]
  },
  {
   "cell_type": "code",
   "execution_count": 13,
   "id": "de8f12c6",
   "metadata": {},
   "outputs": [
    {
     "data": {
      "text/plain": [
       "1"
      ]
     },
     "execution_count": 13,
     "metadata": {},
     "output_type": "execute_result"
    }
   ],
   "source": [
    "tuple_list[4]"
   ]
  },
  {
   "cell_type": "code",
   "execution_count": 14,
   "id": "518bca9d",
   "metadata": {},
   "outputs": [],
   "source": [
    "#sets\n",
    "\n",
    "dailylog = {1,2,3,3,3,5,6,6,8,7,1,3}"
   ]
  },
  {
   "cell_type": "code",
   "execution_count": 15,
   "id": "40feec2a",
   "metadata": {},
   "outputs": [
    {
     "name": "stdout",
     "output_type": "stream",
     "text": [
      "{1, 2, 3, 5, 6, 7, 8}\n"
     ]
    }
   ],
   "source": [
    "print (dailylog)"
   ]
  },
  {
   "cell_type": "code",
   "execution_count": 16,
   "id": "afbc36ec",
   "metadata": {},
   "outputs": [
    {
     "data": {
      "text/plain": [
       "set"
      ]
     },
     "execution_count": 16,
     "metadata": {},
     "output_type": "execute_result"
    }
   ],
   "source": [
    "type (dailylog)"
   ]
  },
  {
   "cell_type": "code",
   "execution_count": 18,
   "id": "b4bf883b",
   "metadata": {},
   "outputs": [],
   "source": [
    "mydailylog = {10,12,10,3,12,5,8,9}"
   ]
  },
  {
   "cell_type": "code",
   "execution_count": 19,
   "id": "095ada2f",
   "metadata": {},
   "outputs": [
    {
     "name": "stdout",
     "output_type": "stream",
     "text": [
      "{3, 5, 8, 9, 10, 12}\n"
     ]
    }
   ],
   "source": [
    "print (mydailylog)"
   ]
  },
  {
   "cell_type": "code",
   "execution_count": 22,
   "id": "5d397cb3",
   "metadata": {},
   "outputs": [
    {
     "name": "stdout",
     "output_type": "stream",
     "text": [
      "{1, 2, 3, 5, 6, 7, 8, 9, 10, 12}\n"
     ]
    }
   ],
   "source": [
    "#combining both sets \n",
    "\n",
    "print (dailylog | mydailylog)"
   ]
  },
  {
   "cell_type": "code",
   "execution_count": 23,
   "id": "8b1c4252",
   "metadata": {},
   "outputs": [
    {
     "name": "stdout",
     "output_type": "stream",
     "text": [
      "{8, 3, 5}\n"
     ]
    }
   ],
   "source": [
    "#inner join of sets\n",
    "\n",
    "print (dailylog & mydailylog)"
   ]
  },
  {
   "cell_type": "code",
   "execution_count": 24,
   "id": "6e942fc6",
   "metadata": {},
   "outputs": [
    {
     "name": "stdout",
     "output_type": "stream",
     "text": [
      "{1, 2, 6, 7}\n"
     ]
    }
   ],
   "source": [
    "#subtraction of sets\n",
    "\n",
    "print (dailylog - mydailylog)"
   ]
  },
  {
   "cell_type": "code",
   "execution_count": 25,
   "id": "6a17fa40",
   "metadata": {},
   "outputs": [
    {
     "name": "stdout",
     "output_type": "stream",
     "text": [
      "{1, 2, 6, 7, 9, 10, 12}\n"
     ]
    }
   ],
   "source": [
    "#unique values of both sets which does not match\n",
    "\n",
    "print (dailylog ^ mydailylog)"
   ]
  },
  {
   "cell_type": "code",
   "execution_count": 26,
   "id": "145cf9ff",
   "metadata": {},
   "outputs": [],
   "source": [
    "#Dictionaries\n",
    "\n",
    "dict_cream = {'name': 'Manthan Sharma', 'weekly intake': 5, 'favorite ice creams': [ 'Vanilla', 'Chocolate']}"
   ]
  },
  {
   "cell_type": "code",
   "execution_count": 27,
   "id": "ba023bd4",
   "metadata": {},
   "outputs": [
    {
     "data": {
      "text/plain": [
       "dict"
      ]
     },
     "execution_count": 27,
     "metadata": {},
     "output_type": "execute_result"
    }
   ],
   "source": [
    "type (dict_cream)"
   ]
  },
  {
   "cell_type": "code",
   "execution_count": 28,
   "id": "0a4a7ef4",
   "metadata": {},
   "outputs": [
    {
     "name": "stdout",
     "output_type": "stream",
     "text": [
      "{'name': 'Manthan Sharma', 'weekly intake': 5, 'favorite ice creams': ['Vanilla', 'Chocolate']}\n"
     ]
    }
   ],
   "source": [
    "print (dict_cream)"
   ]
  },
  {
   "cell_type": "code",
   "execution_count": 29,
   "id": "6aee0d1f",
   "metadata": {},
   "outputs": [
    {
     "data": {
      "text/plain": [
       "dict_values(['Manthan Sharma', 5, ['Vanilla', 'Chocolate']])"
      ]
     },
     "execution_count": 29,
     "metadata": {},
     "output_type": "execute_result"
    }
   ],
   "source": [
    "dict_cream.values()"
   ]
  },
  {
   "cell_type": "code",
   "execution_count": 31,
   "id": "3be07e34",
   "metadata": {},
   "outputs": [
    {
     "data": {
      "text/plain": [
       "dict_keys(['name', 'weekly intake', 'favorite ice creams'])"
      ]
     },
     "execution_count": 31,
     "metadata": {},
     "output_type": "execute_result"
    }
   ],
   "source": [
    "dict_cream.keys()"
   ]
  },
  {
   "cell_type": "code",
   "execution_count": 32,
   "id": "6231bd94",
   "metadata": {},
   "outputs": [
    {
     "data": {
      "text/plain": [
       "dict_items([('name', 'Manthan Sharma'), ('weekly intake', 5), ('favorite ice creams', ['Vanilla', 'Chocolate'])])"
      ]
     },
     "execution_count": 32,
     "metadata": {},
     "output_type": "execute_result"
    }
   ],
   "source": [
    "dict_cream.items()"
   ]
  },
  {
   "cell_type": "code",
   "execution_count": 33,
   "id": "b2473ca1",
   "metadata": {},
   "outputs": [
    {
     "data": {
      "text/plain": [
       "'Manthan Sharma'"
      ]
     },
     "execution_count": 33,
     "metadata": {},
     "output_type": "execute_result"
    }
   ],
   "source": [
    "dict_cream['name']"
   ]
  },
  {
   "cell_type": "code",
   "execution_count": 34,
   "id": "e65764f7",
   "metadata": {},
   "outputs": [
    {
     "name": "stdout",
     "output_type": "stream",
     "text": [
      "{'name': 'Sharma Manthan', 'weekly intake': 5, 'favorite ice creams': ['Vanilla', 'Chocolate']}\n"
     ]
    }
   ],
   "source": [
    "dict_cream['name'] = 'Sharma Manthan'\n",
    "\n",
    "print (dict_cream)"
   ]
  },
  {
   "cell_type": "code",
   "execution_count": 36,
   "id": "a4dd9ece",
   "metadata": {},
   "outputs": [
    {
     "name": "stdout",
     "output_type": "stream",
     "text": [
      "{'name': 'Manthan Sharma', 'weekly intake': 5, 'favorite ice creams': ['Vanilla', 'Chocolate']}\n"
     ]
    }
   ],
   "source": [
    "dict_cream.update ({'name': 'Manthan Sharma', 'weekly intake': 5, 'favorite ice creams': ['Vanilla', 'Chocolate']})\n",
    "\n",
    "print(dict_cream)"
   ]
  },
  {
   "cell_type": "code",
   "execution_count": 37,
   "id": "1d7599ac",
   "metadata": {},
   "outputs": [
    {
     "data": {
      "text/plain": [
       "{'name': 'Manthan Sharma', 'favorite ice creams': ['Vanilla', 'Chocolate']}"
      ]
     },
     "execution_count": 37,
     "metadata": {},
     "output_type": "execute_result"
    }
   ],
   "source": [
    "del dict_cream ['weekly intake']\n",
    "\n",
    "dict_cream"
   ]
  },
  {
   "cell_type": "code",
   "execution_count": null,
   "id": "6b54eb2c",
   "metadata": {},
   "outputs": [],
   "source": []
  },
  {
   "cell_type": "code",
   "execution_count": null,
   "id": "3f1e85aa",
   "metadata": {},
   "outputs": [],
   "source": []
  }
 ],
 "metadata": {
  "kernelspec": {
   "display_name": "Python 3 (ipykernel)",
   "language": "python",
   "name": "python3"
  },
  "language_info": {
   "codemirror_mode": {
    "name": "ipython",
    "version": 3
   },
   "file_extension": ".py",
   "mimetype": "text/x-python",
   "name": "python",
   "nbconvert_exporter": "python",
   "pygments_lexer": "ipython3",
   "version": "3.11.5"
  }
 },
 "nbformat": 4,
 "nbformat_minor": 5
}
